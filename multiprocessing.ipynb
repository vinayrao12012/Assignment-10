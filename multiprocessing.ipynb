{
 "cells": [
  {
   "cell_type": "markdown",
   "id": "4df61c20-c1bb-409f-bbe3-8eff41eb4371",
   "metadata": {},
   "source": [
    "## Q1"
   ]
  },
  {
   "cell_type": "markdown",
   "id": "7c4dc360-d30c-40d6-9913-0b53bc25bd3e",
   "metadata": {},
   "source": [
    "Multiprocessing in Python refers to the use of multiple processes to achieve concurrent execution of tasks within a program.\n",
    "\n",
    "Use:\n",
    "1. True Parallelism: Multiprocessing allows for true parallelism, as each process runs in its own memory space and Python interpreter.\n",
    "\n",
    "2. Leveraging Multiple Cores: Modern computers often have multiple CPU cores. Multiprocessing enables you to distribute tasks across these cores, which can significantly improve the performance of CPU-bound operations."
   ]
  },
  {
   "cell_type": "markdown",
   "id": "3e673595-0dc5-491e-8b54-e98f42b7f3ed",
   "metadata": {},
   "source": [
    "## Q2"
   ]
  },
  {
   "cell_type": "markdown",
   "id": "2f6ffa43-cb32-474d-8247-492c5b5b3f53",
   "metadata": {},
   "source": [
    "1. Parrallelism:\n",
    "\n",
    "\n",
    "i) Multiprocessing:-- Provides true parallelism, especially on multi-core systems. Each process runs on a separate core, maximizing CPU utilization. \n",
    "\n",
    "ii) MultiThreading:-- Limited parallelism due to the GIL. Threads can run concurrently, but they can't achieve true parallel execution of CPU-bound tasks.\n",
    "\n",
    "\n",
    "2. Isolation:\n",
    "\n",
    "i) Multiprocessing:-- Processes are isolated from each other, meaning they have their own memory space and resources.\n",
    "\n",
    "ii) MultiThreading:-- Threads share the same memory space and resources of the parent process. "
   ]
  },
  {
   "cell_type": "markdown",
   "id": "4b5efc38-46c6-4036-b7b8-12ec158c42db",
   "metadata": {},
   "source": [
    "## Q3"
   ]
  },
  {
   "cell_type": "code",
   "execution_count": 1,
   "id": "bfd0fd67-113b-42f4-a780-c0f523eb7c90",
   "metadata": {},
   "outputs": [],
   "source": [
    "import multiprocessing"
   ]
  },
  {
   "cell_type": "code",
   "execution_count": 2,
   "id": "32815aae-67e4-4e90-9f42-af0103521346",
   "metadata": {},
   "outputs": [
    {
     "name": "stdout",
     "output_type": "stream",
     "text": [
      "It is my main Function.\n",
      "This is my test Function.\n"
     ]
    }
   ],
   "source": [
    "def test_func():\n",
    "    print(\"This is my test Function.\")\n",
    "    \n",
    "if __name__ == \"__main__\":\n",
    "    m = multiprocessing.Process(target=test_func)\n",
    "    print(\"It is my main Function.\")\n",
    "    m.start()\n",
    "    m.join()"
   ]
  },
  {
   "cell_type": "markdown",
   "id": "300213e6-b7ed-4e26-bd11-032e29e6ecac",
   "metadata": {},
   "source": [
    "## Q4"
   ]
  },
  {
   "cell_type": "markdown",
   "id": "e9c0e810-5f77-49cd-b913-d685dfe44a00",
   "metadata": {},
   "source": [
    "MultiProcessing Pool in Python is a convenient and high-level way to manage a group of worker processes that perform tasks concurrently.\n",
    "\n",
    "A multiprocessing pool provides a set of worker processes that can be used to execute tasks in parallel. \n",
    "\n",
    "why it is useful?\n",
    "\n",
    "1. Efficient Parallelism: A multiprocessing pool allows you to parallelize tasks across multiple processes, making efficient use of available CPU cores and potentially speeding up CPU-bound operations.\n",
    "\n",
    "2. Task Distribution: The pool automatically distributes tasks to worker processes, ensuring that all available processes are used effectively. This load balancing helps optimize the utilization of CPU resource."
   ]
  },
  {
   "cell_type": "markdown",
   "id": "4a112eb7-3c80-4ec7-98bf-e6713a824822",
   "metadata": {},
   "source": [
    "## Q5"
   ]
  },
  {
   "cell_type": "code",
   "execution_count": 3,
   "id": "af07d2c6-5957-4d16-873d-eb0e6ae4c1de",
   "metadata": {},
   "outputs": [],
   "source": [
    "import multiprocessing"
   ]
  },
  {
   "cell_type": "code",
   "execution_count": 5,
   "id": "e8519e39-a46f-424e-bf09-915cf06d89ba",
   "metadata": {},
   "outputs": [
    {
     "name": "stdout",
     "output_type": "stream",
     "text": [
      "[4, 9, 16, 25, 36, 49, 64, 81, 100]\n"
     ]
    }
   ],
   "source": [
    "def square(n):\n",
    "    return n**2\n",
    "    \n",
    "if __name__ == \"__main__\":\n",
    "    with multiprocessing.Pool(processes=5) as pool:\n",
    "        out = pool.map(square,[2,3,4,5,6,7,8,9,10])\n",
    "        print(out)"
   ]
  },
  {
   "cell_type": "markdown",
   "id": "c6b1f719-0676-424e-a1de-17e158a62a38",
   "metadata": {},
   "source": [
    "## Q6"
   ]
  },
  {
   "cell_type": "code",
   "execution_count": 26,
   "id": "1de67e13-68a3-49b9-b9c2-bd24c6a49592",
   "metadata": {},
   "outputs": [],
   "source": [
    "import multiprocessing"
   ]
  },
  {
   "cell_type": "code",
   "execution_count": 33,
   "id": "7732682d-6a5f-47c8-a629-96874b55241c",
   "metadata": {},
   "outputs": [
    {
     "name": "stdout",
     "output_type": "stream",
     "text": [
      "Process number : 1\n",
      "Process number : 2\n",
      "Process number : 3\n",
      "Process number : 4\n"
     ]
    }
   ],
   "source": [
    "def print_number(number):\n",
    "    print(f\"Process number : {i}\")\n",
    "    \n",
    "if __name__ == \"__main__\":\n",
    "    lst = []\n",
    "    for i in range(1,5):\n",
    "        m = multiprocessing.Process(target=print_number,args=(i,))\n",
    "        lst.append(m)\n",
    "        m.start()\n",
    "    \n",
    "    for j in lst:\n",
    "        j.join()"
   ]
  },
  {
   "cell_type": "code",
   "execution_count": null,
   "id": "19fcef6a-f97c-40b4-a2f2-537f7b037a8e",
   "metadata": {},
   "outputs": [],
   "source": []
  }
 ],
 "metadata": {
  "kernelspec": {
   "display_name": "Python 3 (ipykernel)",
   "language": "python",
   "name": "python3"
  },
  "language_info": {
   "codemirror_mode": {
    "name": "ipython",
    "version": 3
   },
   "file_extension": ".py",
   "mimetype": "text/x-python",
   "name": "python",
   "nbconvert_exporter": "python",
   "pygments_lexer": "ipython3",
   "version": "3.10.8"
  }
 },
 "nbformat": 4,
 "nbformat_minor": 5
}
